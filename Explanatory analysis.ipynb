{
 "cells": [
  {
   "cell_type": "markdown",
   "metadata": {},
   "source": [
    "# Package used in analysis download"
   ]
  },
  {
   "cell_type": "code",
   "execution_count": 1,
   "metadata": {},
   "outputs": [],
   "source": [
    "# Data reading\n",
    "import pandas as pd \n",
    "\n",
    "# Directory manipulation\n",
    "import os\n",
    "\n",
    "# Date wrangling\n",
    "import datetime "
   ]
  },
  {
   "cell_type": "markdown",
   "metadata": {},
   "source": [
    "# Newest data download"
   ]
  },
  {
   "cell_type": "code",
   "execution_count": 2,
   "metadata": {},
   "outputs": [
    {
     "name": "stdout",
     "output_type": "stream",
     "text": [
      "Read municipality data in 0.62 seconds\n",
      "Rows read: 13613\n",
      "Read patient data in 0.89 seconds\n",
      "Rows read: 31872\n",
      "Data saved in data/2020-11-13\n"
     ]
    }
   ],
   "source": [
    "# Downloading the newest data \n",
    "!python3 dataDownload.py"
   ]
  },
  {
   "cell_type": "markdown",
   "metadata": {},
   "source": [
    "# Reading the newest data "
   ]
  },
  {
   "cell_type": "code",
   "execution_count": 3,
   "metadata": {},
   "outputs": [],
   "source": [
    "# Listing all the directories in the data folder \n",
    "dataFolders = os.listdir('data')\n",
    "\n",
    "# Converting the folder names to datetime. That way when we sort we can be sure that the \n",
    "# newest date will be the last coordinate\n",
    "dataFolders = [datetime.datetime.strptime(x, '%Y-%m-%d') for x in dataFolders]\n",
    "\n",
    "# Sorting \n",
    "dataFolders.sort()\n",
    "\n",
    "# Extracting the newest date \n",
    "newestDate = dataFolders[-1].strftime('%Y-%m-%d')\n",
    "\n",
    "# Reading the newest files\n",
    "dMunicipality = pd.read_csv(f'data/{newestDate}/municipality_data.csv')\n",
    "dPatient = pd.read_csv(f'data/{newestDate}/patient_data.csv')"
   ]
  },
  {
   "cell_type": "markdown",
   "metadata": {},
   "source": [
    "# Data cleaning and engineering "
   ]
  },
  {
   "cell_type": "markdown",
   "metadata": {},
   "source": [
    "## Municipality data "
   ]
  },
  {
   "cell_type": "code",
   "execution_count": 4,
   "metadata": {},
   "outputs": [
    {
     "name": "stdout",
     "output_type": "stream",
     "text": [
      "(13613, 7)\n"
     ]
    }
   ],
   "source": [
    "print(dMunicipality.shape)"
   ]
  },
  {
   "cell_type": "code",
   "execution_count": 5,
   "metadata": {},
   "outputs": [
    {
     "name": "stdout",
     "output_type": "stream",
     "text": [
      "          day administrative_level_3  tests_negative  tests_positive  \\\n",
      "0  2020-03-19             Alytaus m.               2               0   \n",
      "1  2020-03-19              Elektrėnų               1               0   \n",
      "2  2020-03-19               Kauno m.              20               0   \n",
      "3  2020-03-19               Kauno r.               1               0   \n",
      "4  2020-03-19           Panevėžio r.               1               0   \n",
      "\n",
      "   tests_positive_repeated  tests_positive_new  tests_total  \n",
      "0                        0                   0            2  \n",
      "1                        0                   0            1  \n",
      "2                        0                   0           20  \n",
      "3                        0                   0            1  \n",
      "4                        0                   0            1  \n"
     ]
    }
   ],
   "source": [
    "print(dMunicipality.head())"
   ]
  },
  {
   "cell_type": "code",
   "execution_count": 6,
   "metadata": {},
   "outputs": [
    {
     "name": "stdout",
     "output_type": "stream",
     "text": [
      "day                        object\n",
      "administrative_level_3     object\n",
      "tests_negative              int64\n",
      "tests_positive              int64\n",
      "tests_positive_repeated     int64\n",
      "tests_positive_new          int64\n",
      "tests_total                 int64\n",
      "dtype: object\n"
     ]
    }
   ],
   "source": [
    "print(dMunicipality.dtypes)"
   ]
  },
  {
   "cell_type": "code",
   "execution_count": 7,
   "metadata": {},
   "outputs": [],
   "source": [
    "# Converting the day column to date format \n",
    "dMunicipality['day'] = [datetime.datetime.strptime(x, '%Y-%m-%d').date() for x in dMunicipality['day']]"
   ]
  },
  {
   "cell_type": "code",
   "execution_count": 8,
   "metadata": {},
   "outputs": [],
   "source": [
    "# Sorting the data frame by the date \n",
    "dMunicipality.sort_values('day', inplace=True)\n",
    "dMunicipality.reset_index(inplace=True, drop=True)\n",
    "\n",
    "# Geting unique day count \n",
    "uniqueDates = list(set(dMunicipality['day']))"
   ]
  },
  {
   "cell_type": "code",
   "execution_count": 9,
   "metadata": {},
   "outputs": [
    {
     "name": "stdout",
     "output_type": "stream",
     "text": [
      "Number of unique days in the dataset: 237\n",
      "First day in data: 2020-03-19\n",
      "Newest day in data: 2020-11-10\n"
     ]
    }
   ],
   "source": [
    "print(f'Number of unique days in the dataset: {len(uniqueDates)}')\n",
    "print(f'First day in data: {min(uniqueDates)}')\n",
    "print(f'Newest day in data: {max(uniqueDates)}')"
   ]
  },
  {
   "cell_type": "code",
   "execution_count": 10,
   "metadata": {},
   "outputs": [],
   "source": [
    "# Geting unique municipality names\n",
    "uniqueMun = list(set(dMunicipality['administrative_level_3']))"
   ]
  },
  {
   "cell_type": "code",
   "execution_count": 11,
   "metadata": {},
   "outputs": [
    {
     "name": "stdout",
     "output_type": "stream",
     "text": [
      "Number of unique municipalities in the dataset: 60\n"
     ]
    }
   ],
   "source": [
    "print(f'Number of unique municipalities in the dataset: {len(uniqueMun)}')"
   ]
  },
  {
   "cell_type": "code",
   "execution_count": null,
   "metadata": {},
   "outputs": [],
   "source": []
  }
 ],
 "metadata": {
  "kernelspec": {
   "display_name": "Python 3",
   "language": "python",
   "name": "python3"
  },
  "language_info": {
   "codemirror_mode": {
    "name": "ipython",
    "version": 3
   },
   "file_extension": ".py",
   "mimetype": "text/x-python",
   "name": "python",
   "nbconvert_exporter": "python",
   "pygments_lexer": "ipython3",
   "version": "3.8.5"
  }
 },
 "nbformat": 4,
 "nbformat_minor": 4
}
